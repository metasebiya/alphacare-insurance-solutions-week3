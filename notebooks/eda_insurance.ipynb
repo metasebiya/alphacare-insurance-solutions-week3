{
 "cells": [
  {
   "metadata": {},
   "cell_type": "markdown",
   "source": "## EDA and stats on Insurance History Data",
   "id": "4e1c50a1dd27170a"
  },
  {
   "metadata": {},
   "cell_type": "code",
   "outputs": [],
   "execution_count": null,
   "source": [
    "import sys\n",
    "import os\n",
    "\n",
    "\n",
    "notebook_dir = os.getcwd()  # Get current working directory (notebooks folder)\n",
    "project_dir = os.path.abspath(os.path.join(notebook_dir, '..'))  # Go up one level\n",
    "src_dir = os.path.join(project_dir, 'src')  # Path to scripts\n",
    "sys.path.append(src_dir)"
   ],
   "id": "4cb7048c8e4d8b25"
  },
  {
   "metadata": {},
   "cell_type": "code",
   "outputs": [],
   "execution_count": null,
   "source": [
    "from IPython.display import display\n",
    "import pandas as pd\n",
    "import matplotlib.pyplot as plt\n",
    "import seaborn as sns\n",
    "from load_data import DataLoader\n",
    "from eda_data import DataCleaner\n",
    "from visualize_data import Visualizer"
   ],
   "id": "37d548d6ff60ed06"
  },
  {
   "metadata": {},
   "cell_type": "markdown",
   "source": "## Importing Data",
   "id": "4c94fdfed354b6c2"
  },
  {
   "metadata": {},
   "cell_type": "code",
   "outputs": [],
   "execution_count": null,
   "source": [
    "#Import data\n",
    "file_path = \"../data/raw/MachineLearningRating_v3.txt\"\n",
    "data = DataLoader()\n",
    "df = data.load_data(file_path)"
   ],
   "id": "76f24e772c44116c"
  },
  {
   "metadata": {},
   "cell_type": "markdown",
   "source": "## Data cleaning",
   "id": "8c1f959c0f38ea2c"
  },
  {
   "metadata": {},
   "cell_type": "code",
   "outputs": [],
   "execution_count": null,
   "source": [
    "cleaner = DataCleaner()\n",
    "cleaned_df = cleaner.clean_data(df)"
   ],
   "id": "5dff44c48f92c8eb"
  },
  {
   "metadata": {},
   "cell_type": "markdown",
   "source": "## Data Visualization",
   "id": "6f5f2e9f587512f9"
  },
  {
   "metadata": {},
   "cell_type": "code",
   "outputs": [],
   "execution_count": null,
   "source": "data = Visualizer(cleaned_df)",
   "id": "bbbb4a521dafd02e"
  },
  {
   "metadata": {},
   "cell_type": "markdown",
   "source": "## Univariate Analysis",
   "id": "df349fb7f2124af3"
  },
  {
   "metadata": {},
   "cell_type": "code",
   "outputs": [],
   "execution_count": null,
   "source": "data.univariate_analysis()",
   "id": "39d9c3fb7e7262b"
  },
  {
   "metadata": {},
   "cell_type": "markdown",
   "source": "## Bivariate and Multivariate Analysis",
   "id": "2f987191315e2974"
  },
  {
   "metadata": {},
   "cell_type": "code",
   "outputs": [],
   "execution_count": null,
   "source": "data.bivariate_multivariate_analysis()",
   "id": "a1252b86ef744111"
  },
  {
   "metadata": {},
   "cell_type": "markdown",
   "source": "## Outlier Detection",
   "id": "be5df80b41671e3c"
  },
  {
   "metadata": {},
   "cell_type": "code",
   "outputs": [],
   "execution_count": null,
   "source": "data.outlier_detection()",
   "id": "d9056f653d0c4d72"
  },
  {
   "metadata": {},
   "cell_type": "markdown",
   "source": "## Loss Ratio Visualization",
   "id": "d058d148d2686c53"
  },
  {
   "metadata": {},
   "cell_type": "code",
   "outputs": [],
   "execution_count": null,
   "source": "data.calc_loss_ratio()",
   "id": "465d192691060ba5"
  },
  {
   "metadata": {},
   "cell_type": "markdown",
   "source": "## Plot correlations",
   "id": "d222100e5604afec"
  },
  {
   "metadata": {},
   "cell_type": "code",
   "outputs": [],
   "execution_count": null,
   "source": "data.plot_correlations()",
   "id": "44a6d0a3cebd1aa7"
  },
  {
   "metadata": {},
   "cell_type": "markdown",
   "source": "## Hypothesis Testing",
   "id": "598274dd20e8809a"
  },
  {
   "metadata": {},
   "cell_type": "code",
   "outputs": [],
   "execution_count": null,
   "source": [
    "df['has_claim'] = df['claim_amount'] > 0\n",
    "df['claim_frequency'] = df.groupby('PolicyID')['has_claim'].transform('max')\n",
    "df['claim_severity'] = df['claim_amount'].where(df['claim_amount'] > 0, pd.NA)\n",
    "df['margin'] = df['TotalPremium'] - df['claim_amount']\n"
   ],
   "id": "34bc729e50b86a69"
  }
 ],
 "metadata": {},
 "nbformat": 4,
 "nbformat_minor": 5
}
